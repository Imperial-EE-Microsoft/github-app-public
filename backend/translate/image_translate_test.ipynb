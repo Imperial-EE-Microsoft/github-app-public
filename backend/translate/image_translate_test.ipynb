{
 "cells": [
  {
   "cell_type": "markdown",
   "metadata": {},
   "source": [
    "# Notebook\n",
    "This is to test features of the image_translate library."
   ]
  },
  {
   "cell_type": "code",
   "execution_count": 3,
   "metadata": {},
   "outputs": [],
   "source": [
    "import os\n",
    "import cv2\n",
    "from PIL import Image, ImageDraw, ImageFont, ImageStat\n",
    "import re\n",
    "from openai import AzureOpenAI\n",
    "import json\n",
    "from PIL import Image, ImageDraw, ImageFont\n",
    "import numpy as np\n",
    "import matplotlib.pyplot as plt\n",
    "\n",
    "# Import necessary functions from image_translate.py\n",
    "from image_translate import retrieve_bounding_boxes_by_image_path, get_translated_text_data, FIXED_FONT_PATH_FOR_PLOTTING, get_text_color, create_filled_polygon_mask, draw_text_on_image, warp_image_to_bounding_box, get_average_color\n",
    "\n",
    "def create_annotated_image(image_path, line_bounding_boxes, translated_text_list, plot=False):\n",
    "    # Create output directory if it doesn't exist\n",
    "    os.makedirs('./translated_images', exist_ok=True)\n",
    "    image = Image.open(image_path).convert('RGBA')\n",
    "\n",
    "    font_size = 40\n",
    "    font = ImageFont.truetype(FIXED_FONT_PATH_FOR_PLOTTING, font_size)\n",
    "\n",
    "    for line_info, translated_text in zip(line_bounding_boxes, translated_text_list):\n",
    "        bounding_box = line_info['bounding_box']\n",
    "\n",
    "        # Get the average color of the bounding box area\n",
    "        bg_color = get_average_color(image, bounding_box)\n",
    "        text_color = get_text_color(bg_color)\n",
    "\n",
    "        # Create a mask to fill the bounding box area with the background color\n",
    "        mask_image = create_filled_polygon_mask(\n",
    "            bounding_box, image.size, bg_color)\n",
    "\n",
    "        # Composite the mask onto the image to fill the bounding box\n",
    "        image = Image.alpha_composite(image, mask_image)\n",
    "\n",
    "        # Draw the translated text onto a temporary image\n",
    "        text_image = draw_text_on_image(translated_text, font, text_color)\n",
    "\n",
    "        # Convert the text image to an array and warp it to fit the bounding box\n",
    "        text_image_array = np.array(text_image)\n",
    "        warped_text_image = warp_image_to_bounding_box(\n",
    "            text_image_array, bounding_box, image.width, image.height)\n",
    "\n",
    "        # Convert the warped text image back to PIL format and paste it onto the original image\n",
    "        warped_text_image_pil = Image.fromarray(warped_text_image)\n",
    "        image = Image.alpha_composite(image, warped_text_image_pil)\n",
    "\n",
    "    # Save the annotated image\n",
    "    output_path = os.path.join(\n",
    "        './translated_images', os.path.basename(image_path))\n",
    "    image.save(output_path)\n",
    "\n",
    "    # Display the image if needed\n",
    "    if plot:\n",
    "        plt.figure(figsize=(20, 10))\n",
    "        plt.subplot(1, 2, 1)\n",
    "        plt.imshow(image.convert('RGB'))\n",
    "        plt.title(\"Annotated Image with Translated Text\")\n",
    "        plt.axis(\"off\")\n",
    "\n",
    "        original_image = Image.open(image_path)\n",
    "        plt.subplot(1, 2, 2)\n",
    "        plt.imshow(original_image)\n",
    "        plt.title(\"Original Image\")\n",
    "        plt.axis(\"off\")\n",
    "\n",
    "        plt.show()\n",
    "    return output_path"
   ]
  },
  {
   "cell_type": "code",
   "execution_count": 4,
   "metadata": {},
   "outputs": [
    {
     "name": "stdout",
     "output_type": "stream",
     "text": [
      "Prompt: \n",
      "You are a translator that receives a batch of lines in an image . Given the following yaml file, please translate each line into Spanish. \n",
      "For each line, fill it in with the translation, respecting the context of the text.\n",
      "Return only the yaml file, fully filled in.\n",
      "- LIFE IS LIKE\n",
      "- RIDING A BICYCLE\n",
      "- TO\n",
      "- KEEP YOUR BALANCE\n",
      "- YOU MUST KEEP MOVING\n",
      "\n",
      "Response: ['LA VIDA ES COMO', 'ANDAR EN BICICLETA', 'PARA', 'MANTENER EL EQUILIBRIO', 'DEBES SEGUIR MOVIÉNDOTE']\n"
     ]
    }
   ],
   "source": [
    "image_paths = [\"./images/bicycle.png\", \"./images/road_sign.png\"]\n",
    "target_language = \"Spanish\"\n",
    "image_path = image_paths[0]\n",
    "lbb = retrieve_bounding_boxes_by_image_path(image_path)\n",
    "text = get_translated_text_data(image_path, target_language)"
   ]
  },
  {
   "cell_type": "code",
   "execution_count": null,
   "metadata": {},
   "outputs": [],
   "source": [
    "create_annotated_image(image_path, lbb, text, plot=True)"
   ]
  },
  {
   "cell_type": "code",
   "execution_count": null,
   "metadata": {},
   "outputs": [],
   "source": []
  }
 ],
 "metadata": {
  "kernelspec": {
   "display_name": "venv",
   "language": "python",
   "name": "python3"
  },
  "language_info": {
   "codemirror_mode": {
    "name": "ipython",
    "version": 3
   },
   "file_extension": ".py",
   "mimetype": "text/x-python",
   "name": "python",
   "nbconvert_exporter": "python",
   "pygments_lexer": "ipython3",
   "version": "3.10.14"
  }
 },
 "nbformat": 4,
 "nbformat_minor": 2
}
